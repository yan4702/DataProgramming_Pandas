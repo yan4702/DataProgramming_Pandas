{
 "cells": [
  {
   "cell_type": "markdown",
   "metadata": {},
   "source": [
    "# Question.1.a.i"
   ]
  },
  {
   "cell_type": "code",
   "execution_count": 1,
   "metadata": {},
   "outputs": [
    {
     "name": "stdout",
     "output_type": "stream",
     "text": [
      "   transaction_id    month        town flat_type block        street_name  \\\n",
      "0               0  2017-01  ANG MO KIO    2 ROOM   406  ANG MO KIO AVE 10   \n",
      "1               1  2017-01  ANG MO KIO    3 ROOM   108   ANG MO KIO AVE 4   \n",
      "2               2  2017-01  ANG MO KIO    3 ROOM   602   ANG MO KIO AVE 5   \n",
      "\n",
      "  storey_range  floor_area_sqm      flat_model  lease_commence_date  \\\n",
      "0     10 TO 12            44.0        Improved                 1979   \n",
      "1     01 TO 03            67.0  New Generation                 1978   \n",
      "2     01 TO 03            67.0  New Generation                 1980   \n",
      "\n",
      "   resale_price  \n",
      "0      232000.0  \n",
      "1      250000.0  \n",
      "2      262000.0  \n"
     ]
    }
   ],
   "source": [
    "import pandas as pd\n",
    "\n",
    "urlQ1 = \"https://raw.githubusercontent.com/DataTensor/hdb/main/resale-flat-prices.csv\"\n",
    "hdbPd = pd.read_csv(urlQ1, sep=',',delimiter=',') \n",
    "\n",
    "print(hdbPd.head(3))"
   ]
  },
  {
   "cell_type": "markdown",
   "metadata": {},
   "source": [
    "# Question.1.a.ii\n",
    "\n",
    "As it can be seen, the dataset includes the list of HDB resale. The information are as follows:<br>\n",
    "Transaction_id - Gives integer of the ID of the transaction<br>\n",
    "Month - Gives month and year when the transaction took place<br>\n",
    "Town - Gives the town name where the transaction occured<br>\n",
    "Flat Type - Either 2, 3, 4 or 5, as well as Executive and Multigeneration flats<br>\n",
    "Block - Gives block number of flat in integer<br>\n",
    "Street Name - Gives the exact street name where transaction took place<br>\n"
   ]
  },
  {
   "cell_type": "code",
   "execution_count": 2,
   "metadata": {
    "scrolled": false
   },
   "outputs": [
    {
     "name": "stdout",
     "output_type": "stream",
     "text": [
      "Display entire column name\n",
      " ----------------------------------------------------------------------\n",
      "Index(['transaction_id', 'month', 'town', 'flat_type', 'block', 'street_name',\n",
      "       'storey_range', 'floor_area_sqm', 'flat_model', 'lease_commence_date',\n",
      "       'resale_price'],\n",
      "      dtype='object')\n",
      "\n",
      "flat model unique\n",
      " ----------------------------------------------------------------------\n",
      "['Improved' 'New Generation' 'DBSS' 'Standard' 'Apartment' 'Simplified'\n",
      " 'Model A' 'Premium Apartment' 'Adjoined flat' 'Model A-Maisonette'\n",
      " 'Maisonette' 'Type S1' 'Type S2' 'Model A2' 'Terrace'\n",
      " 'Improved-Maisonette' 'Premium Maisonette' 'Multi Generation'\n",
      " 'Premium Apartment Loft' '2-room'] \n",
      "Total unique values:  20\n",
      "\n",
      "transaction id unique\n",
      " ----------------------------------------------------------------------\n",
      "[    0     1     2 ... 77892 77893 77894] \n",
      "Total unique values:  77895\n",
      "\n",
      "month unique\n",
      " ----------------------------------------------------------------------\n",
      "['2017-01' '2017-02' '2017-03' '2017-04' '2017-05' '2017-06' '2017-07'\n",
      " '2017-08' '2017-09' '2017-10' '2017-11' '2017-12' '2018-01' '2018-02'\n",
      " '2018-03' '2018-04' '2018-05' '2018-06' '2018-07' '2018-08' '2018-09'\n",
      " '2018-10' '2018-11' '2018-12' '2019-01' '2019-02' '2019-03' '2019-04'\n",
      " '2019-05' '2019-06' '2019-07' '2019-08' '2019-09' '2019-10' '2019-11'\n",
      " '2019-12' '2020-01' '2020-02' '2020-03' '2020-04' '2020-05' '2020-06'\n",
      " '2020-07' '2020-08'] \n",
      "Total unique values:  44\n",
      "\n",
      "town unique\n",
      " ----------------------------------------------------------------------\n",
      "['ANG MO KIO' 'BEDOK' 'BISHAN' 'BUKIT BATOK' 'BUKIT MERAH' 'BUKIT PANJANG'\n",
      " 'BUKIT TIMAH' 'CENTRAL AREA' 'CHOA CHU KANG' 'CLEMENTI' 'GEYLANG'\n",
      " 'HOUGANG' 'JURONG EAST' 'JURONG WEST' 'KALLANG/WHAMPOA' 'MARINE PARADE'\n",
      " 'PASIR RIS' 'PUNGGOL' 'QUEENSTOWN' 'SEMBAWANG' 'SENGKANG' 'SERANGOON'\n",
      " 'TAMPINES' 'TOA PAYOH' 'WOODLANDS' 'YISHUN'] \n",
      "Total unique values:  26\n",
      "\n",
      "flat type unique\n",
      " ----------------------------------------------------------------------\n",
      "['2 ROOM' '3 ROOM' '4 ROOM' '5 ROOM' 'EXECUTIVE' nan '1 ROOM'\n",
      " 'MULTI-GENERATION'] \n",
      "Total unique values:  8\n",
      "\n",
      "block unique\n",
      " ----------------------------------------------------------------------\n",
      "['406' '108' '602' ... '256C' '256D' '868B'] \n",
      "Total unique values:  2439\n",
      "\n",
      "street name unique\n",
      " ----------------------------------------------------------------------\n",
      "['ANG MO KIO AVE 10' 'ANG MO KIO AVE 4' 'ANG MO KIO AVE 5'\n",
      " 'ANG MO KIO AVE 1' 'ANG MO KIO AVE 3' 'ANG MO KIO AVE 9'\n",
      " 'ANG MO KIO AVE 8' 'ANG MO KIO AVE 6' 'ANG MO KIO ST 52'\n",
      " 'BEDOK NTH AVE 4' 'BEDOK NTH AVE 1' 'BEDOK NTH RD' 'BEDOK STH AVE 1'\n",
      " 'BEDOK RESERVOIR RD' 'CHAI CHEE ST' 'BEDOK NTH ST 3' 'BEDOK STH RD'\n",
      " 'CHAI CHEE AVE' 'NEW UPP CHANGI RD' 'CHAI CHEE DR'] \n",
      "Total unique values:  548\n"
     ]
    }
   ],
   "source": [
    "print(\"Display entire column name\\n\", '-'*70 )\n",
    "print(hdbPd.columns)\n",
    "\n",
    "print('\\nflat model unique\\n','-'*70)\n",
    "print(hdbPd['flat_model'].unique(), '\\nTotal unique values: ',\\\n",
    "      len(hdbPd['flat_model'].unique()))\n",
    "\n",
    "print('\\ntransaction id unique\\n','-'*70)\n",
    "print(hdbPd['transaction_id'].unique(), '\\nTotal unique values: ',\\\n",
    "      len(hdbPd['transaction_id'].unique()))\n",
    "\n",
    "print('\\nmonth unique\\n','-'*70)\n",
    "print(hdbPd['month'].unique(), '\\nTotal unique values: ',\\\n",
    "      len(hdbPd['month'].unique()))\n",
    "\n",
    "print('\\ntown unique\\n','-'*70)\n",
    "print(hdbPd['town'].unique(), '\\nTotal unique values: ',\\\n",
    "      len(hdbPd['town'].unique()))\n",
    "\n",
    "print('\\nflat type unique\\n','-'*70)\n",
    "print(hdbPd['flat_type'].unique(), '\\nTotal unique values: ',\\\n",
    "      len(hdbPd['flat_type'].unique()))\n",
    "\n",
    "print('\\nblock unique\\n','-'*70)\n",
    "print(hdbPd['block'].unique(), '\\nTotal unique values: ',\\\n",
    "      len(hdbPd['block'].unique()))\n",
    "\n",
    "print('\\nstreet name unique\\n','-'*70)\n",
    "print(hdbPd['street_name'].unique()[:20], '\\nTotal unique values: ',\\\n",
    "      len(hdbPd['street_name'].unique()))"
   ]
  },
  {
   "cell_type": "markdown",
   "metadata": {},
   "source": [
    "Storey Range - Gives the range of the storey<br>\n",
    "Floor Area - Gives the floor area in square metres<br>\n",
    "Flat Model - Gives different type of flat models, including standard, aprtment, simplified, improved etc<br>\n",
    "Lease Commence Date - Gives the date of the lease from HDB<br>\n",
    "Resale Price - Gives the price of the transaction<br>"
   ]
  },
  {
   "cell_type": "code",
   "execution_count": 3,
   "metadata": {
    "scrolled": false
   },
   "outputs": [
    {
     "name": "stdout",
     "output_type": "stream",
     "text": [
      "\n",
      "storey range unique\n",
      " ----------------------------------------------------------------------\n",
      "['10 TO 12' '01 TO 03' '04 TO 06' '07 TO 09' '13 TO 15' '19 TO 21'\n",
      " '22 TO 24' nan '16 TO 18' '34 TO 36' '28 TO 30' '37 TO 39' '49 TO 51'\n",
      " '25 TO 27' '40 TO 42' '31 TO 33' '46 TO 48' '43 TO 45'] \n",
      "Total unique values:  18\n",
      "\n",
      "sqm area of floor unique\n",
      " ----------------------------------------------------------------------\n",
      "[ 44.   67.   68.   73.   74.   82.   81.   92.   91.   94.   98.   97.\n",
      "  99.   90.  117.  119.  118.  112.  121.  147.   45.   59.   63.   70.\n",
      "  60.   65.   75.   66.   84.   93.  104.  105.  120.  130.  132.  115.\n",
      " 122.  137.  139.  143.  146.  145.  141.   64.   83.  108.   95.  123.\n",
      "  69.  103.  102.  100.  107.   86.  101.  150.  155.  144.   34.   51.\n",
      "  54.   58.   76.   88.   77.  106.   85.   89.  134.  110.  111.  151.\n",
      "  55.  113.  126.  124.  131.  142.   42.   46.   56.   61.   57.   72.\n",
      " 109.   47.   96.  116.  128.  140.  148.  156.  157.   71.   52.   79.\n",
      " 129.  133.  125.   48.   62.  114.   87.  127.  161.  165.   50.  153.\n",
      "  43.  138.  164.  163.  136.  149.   80.  154.  152.   37.   78.  135.\n",
      " 170.  192.  182.   31.   49.   53.   60.3 176.  177.  189.   40.  166.\n",
      " 184.  173.  169.  181.  158.   41.  159.  215.  174.   63.1 179.  162.\n",
      "  83.1 172.  168.  160.  249.  185.   38.  178.  171.  237.  183.  190.\n",
      " 175.  188.  187.   35.  186.   39. ] \n",
      "Total unique values:  162\n",
      "\n",
      "flat model unique\n",
      " ----------------------------------------------------------------------\n",
      "['Improved' 'New Generation' 'DBSS' 'Standard' 'Apartment' 'Simplified'\n",
      " 'Model A' 'Premium Apartment' 'Adjoined flat' 'Model A-Maisonette'\n",
      " 'Maisonette' 'Type S1' 'Type S2' 'Model A2' 'Terrace'\n",
      " 'Improved-Maisonette' 'Premium Maisonette' 'Multi Generation'\n",
      " 'Premium Apartment Loft' '2-room'] \n",
      "Total unique values:  20\n",
      "\n",
      "commence date of lease unique\n",
      " ----------------------------------------------------------------------\n",
      "[1979 1978 1980 1981 1976 1977 2011 2012 1996 1988 1985 1986 1974 1984\n",
      " 1983 1987 1982 2000 2001 2005 1989 2010 1972 1993 1973 1992 1990 1998\n",
      " 2004 1997 1971 1975 1970 1969 2013 2008 1999 2003 2002 1995 2006 1967\n",
      " 1968 2007 1991 1966 2009 1994 2014 2015 2016 2017 2018 2019] \n",
      "Total unique values:  54\n",
      "\n",
      "resale price unique\n",
      " ----------------------------------------------------------------------\n",
      "[232000. 250000. 262000. 265000. 275000. 280000. 285000. 288500. 295000.\n",
      " 297000. 298000. 300000. 301000. 306000. 312000. 321000. 325000. 328000.\n",
      " 330000. 335000. 338000. 366000. 373000. 375000. 390000. 400000. 403000.\n",
      " 410000. 425888. 430000.] \n",
      "Total unique values:  2438 \n",
      "Maximum Price: SGD 1232000.0 \n",
      "Minimum Price: SGD 140000.0\n"
     ]
    }
   ],
   "source": [
    "#'floor_area_sqm', 'flat_model', 'lease_commence_date','resale_price'\n",
    "\n",
    "print('\\nstorey range unique\\n','-'*70)\n",
    "print(hdbPd['storey_range'].unique(), '\\nTotal unique values: ',\\\n",
    "      len(hdbPd['storey_range'].unique()))\n",
    "\n",
    "print('\\nsqm area of floor unique\\n','-'*70)\n",
    "print(hdbPd['floor_area_sqm'].unique(), '\\nTotal unique values: ',\\\n",
    "      len(hdbPd['floor_area_sqm'].unique()))\n",
    "\n",
    "print('\\nflat model unique\\n','-'*70)\n",
    "print(hdbPd['flat_model'].unique(), '\\nTotal unique values: ',\\\n",
    "      len(hdbPd['flat_model'].unique()))\n",
    "\n",
    "print('\\ncommence date of lease unique\\n','-'*70)\n",
    "print(hdbPd['lease_commence_date'].unique(), '\\nTotal unique values: ',\\\n",
    "      len(hdbPd['lease_commence_date'].unique()))\n",
    "\n",
    "print('\\nresale price unique\\n','-'*70)\n",
    "print(hdbPd['resale_price'].unique()[:30], '\\nTotal unique values: ',\\\n",
    "      len(hdbPd['resale_price'].unique()), '\\nMaximum Price: SGD', \\\n",
    "     hdbPd['resale_price'].max(),'\\nMinimum Price: SGD',hdbPd['resale_price'].min())"
   ]
  },
  {
   "cell_type": "markdown",
   "metadata": {},
   "source": [
    "# Question.1.a.iii\n",
    "\n",
    "The first potential insight is that the price of resale HDB over time can be known, relative to chracteristics that will affect the price, such as floor area, flat type, location, etc.<br><br>\n",
    "The second potential insight is that the number of HDB resale transactions over time can be known."
   ]
  },
  {
   "cell_type": "markdown",
   "metadata": {},
   "source": [
    "# Question.1.b.i\n",
    "\n",
    "Remove those rows with values of missing data."
   ]
  },
  {
   "cell_type": "code",
   "execution_count": 4,
   "metadata": {},
   "outputs": [
    {
     "name": "stdout",
     "output_type": "stream",
     "text": [
      " The data rows with NaN value before drop\n",
      " Total rows of data:  77895 rows\n",
      " ----------------------------------------------------------------------\n",
      "       transaction_id    month    town         flat_type block   street_name  \\\n",
      "77893           77893  2020-08  YISHUN         EXECUTIVE   877  YISHUN ST 81   \n",
      "77894           77894  2020-08  YISHUN  MULTI-GENERATION   666  YISHUN AVE 4   \n",
      "\n",
      "      storey_range  floor_area_sqm        flat_model  lease_commence_date  \\\n",
      "77893          NaN           145.0        Maisonette                 1987   \n",
      "77894     01 TO 03           164.0  Multi Generation                 1987   \n",
      "\n",
      "       resale_price  \n",
      "77893      639888.0  \n",
      "77894      725000.0   \n",
      "\n",
      " The clean data after drop\n",
      " Total rows of data:  77661 rows\n",
      " ----------------------------------------------------------------------\n",
      "       transaction_id    month    town         flat_type block   street_name  \\\n",
      "77892           77892  2020-08  YISHUN         EXECUTIVE   724  YISHUN ST 71   \n",
      "77894           77894  2020-08  YISHUN  MULTI-GENERATION   666  YISHUN AVE 4   \n",
      "\n",
      "      storey_range  floor_area_sqm        flat_model  lease_commence_date  \\\n",
      "77892     07 TO 09           142.0         Apartment                 1986   \n",
      "77894     01 TO 03           164.0  Multi Generation                 1987   \n",
      "\n",
      "       resale_price  \n",
      "77892      555000.0  \n",
      "77894      725000.0  \n"
     ]
    }
   ],
   "source": [
    "#list the data rows in total. \n",
    "hdbNaN = hdbPd.values.tolist()\n",
    "#Show out the NaN value before drop it.\n",
    "print(\" The data rows with NaN value before drop\\n\",  \"Total rows of data: \"\n",
    "      ,len(hdbNaN), \"rows\\n\",'-'*70 )\n",
    "print(hdbPd.tail(2),'\\n')\n",
    "\n",
    "\n",
    "#show out the clean data after drop it.\n",
    "hdbPdClean = hdbPd.dropna()\n",
    "cleanData = hdbPdClean.values.tolist()\n",
    "#Show out the NaN value before drop it.\n",
    "print(\" The clean data after drop\\n\",  \"Total rows of data: \"\n",
    "      ,len(cleanData), \"rows\\n\",'-'*70)\n",
    "print(hdbPdClean.tail(2))"
   ]
  },
  {
   "cell_type": "markdown",
   "metadata": {},
   "source": [
    "# Question.1.b.ii"
   ]
  },
  {
   "cell_type": "code",
   "execution_count": 5,
   "metadata": {},
   "outputs": [
    {
     "name": "stdout",
     "output_type": "stream",
     "text": [
      "   transaction_id    month        town flat_type block        street_name  \\\n",
      "0               0  2017-01  ANG MO KIO    2 ROOM   406  ANG MO KIO AVE 10   \n",
      "1               1  2017-01  ANG MO KIO    3 ROOM   108   ANG MO KIO AVE 4   \n",
      "2               2  2017-01  ANG MO KIO    3 ROOM   602   ANG MO KIO AVE 5   \n",
      "\n",
      "  storey_range  floor_area_sqm      flat_model  lease_commence_date  \\\n",
      "0     10 TO 12            44.0        Improved                 1979   \n",
      "1     01 TO 03            67.0  New Generation                 1978   \n",
      "2     01 TO 03            67.0  New Generation                 1980   \n",
      "\n",
      "   resale_price  \n",
      "0      232000.0  \n",
      "1      250000.0  \n",
      "2      262000.0  \n",
      "77661 rows\n"
     ]
    }
   ],
   "source": [
    "#copy the existing clean data to new dataframe.\n",
    "dfHdbClean = hdbPdClean.copy()\n",
    "print(dfHdbClean.head(3))\n",
    "\n",
    "#Display \n",
    "dfindex = dfHdbClean.index\n",
    "totalRows = len(dfindex)\n",
    "print(str(totalRows) + ' rows')\n"
   ]
  },
  {
   "cell_type": "code",
   "execution_count": 6,
   "metadata": {},
   "outputs": [
    {
     "name": "stdout",
     "output_type": "stream",
     "text": [
      "   transaction_id    month        town flat_type block        street_name  \\\n",
      "0               0  2017-01  ANG MO KIO    2 ROOM   406  ANG MO KIO AVE 10   \n",
      "1               1  2017-01  ANG MO KIO    3 ROOM   108   ANG MO KIO AVE 4   \n",
      "2               2  2017-01  ANG MO KIO    3 ROOM   602   ANG MO KIO AVE 5   \n",
      "3               3  2017-01  ANG MO KIO    3 ROOM   465  ANG MO KIO AVE 10   \n",
      "4               4  2017-01  ANG MO KIO    3 ROOM   601   ANG MO KIO AVE 5   \n",
      "\n",
      "  storey_range  floor_area_sqm      flat_model  lease_commence_date  \\\n",
      "0     10 TO 12            44.0        Improved                 1979   \n",
      "1     01 TO 03            67.0  New Generation                 1978   \n",
      "2     01 TO 03            67.0  New Generation                 1980   \n",
      "3     04 TO 06            68.0  New Generation                 1980   \n",
      "4     01 TO 03            67.0  New Generation                 1980   \n",
      "\n",
      "   resale_price  remainingLease(In Year)  \n",
      "0      232000.0                       61  \n",
      "1      250000.0                       60  \n",
      "2      262000.0                       62  \n",
      "3      265000.0                       62  \n",
      "4      265000.0                       62  \n"
     ]
    }
   ],
   "source": [
    "def q1biiDisplayComputedRemainingLease():\n",
    "    #convert 'month' to str to retrieved year and convert back to int for calculation. \n",
    "    transYr= dfHdbClean['month'].astype(str).str[0:4]\n",
    "    #print(transYear)\n",
    "\n",
    "    #calculate the remaining year lease for the flat on each transacted date. \n",
    "    dfHdbClean['remainingLease(In Year)'] = 99 - (transYr.astype(int) - dfHdbClean['lease_commence_date'])\n",
    "\n",
    "    #disply first 5 results. \n",
    "    #remainLeaseDisplay = dfHdbClean[['month', 'lease_commence_date', 'remainingLease(In Year)']]\n",
    "    #print(remainLeaseDisplay.iloc[:5].to_string(index=False))\n",
    "    \n",
    "    print(dfHdbClean.head(5))\n",
    "q1biiDisplayComputedRemainingLease()"
   ]
  },
  {
   "cell_type": "markdown",
   "metadata": {},
   "source": [
    "# Question.1.b.iii\n"
   ]
  },
  {
   "cell_type": "code",
   "execution_count": 7,
   "metadata": {
    "scrolled": false
   },
   "outputs": [
    {
     "name": "stdout",
     "output_type": "stream",
     "text": [
      " remainingLease(In Year)  TotalTransactedFlats\n",
      "                      95                  4897\n",
      "                      94                  3955\n",
      "                      66                  3547\n",
      "                      65                  3214\n",
      "                      67                  3131\n",
      "                      68                  2548\n",
      "                      79                  2474\n",
      "                      64                  2390\n",
      "                      78                  2377\n",
      "                      82                  2369\n"
     ]
    }
   ],
   "source": [
    "def q1biiiDisplayTotalNumOfTransByRemainingLease():\n",
    "    lease01 = dfHdbClean.groupby(['remainingLease(In Year)'])['remainingLease(In Year)']\\\n",
    "    .count().reset_index(name = 'TotalTransactedFlats')\n",
    "    lease02 = lease01.sort_values(['TotalTransactedFlats'], ascending = False)[:10]\n",
    "\n",
    "\n",
    "    print(lease02.to_string(index=False))\n",
    "q1biiiDisplayTotalNumOfTransByRemainingLease()"
   ]
  },
  {
   "cell_type": "markdown",
   "metadata": {},
   "source": [
    "# Question.1.c\n",
    "\n",
    "Store the claeaned data into new .csv"
   ]
  },
  {
   "cell_type": "code",
   "execution_count": 8,
   "metadata": {},
   "outputs": [],
   "source": [
    "dfHdbClean.to_csv('hdbFlatClean.csv')"
   ]
  },
  {
   "cell_type": "markdown",
   "metadata": {},
   "source": [
    "# Question.2.a\n",
    "\n",
    "Create ORM database(sqlite3) and store the data from CSV Q1c. "
   ]
  },
  {
   "cell_type": "code",
   "execution_count": 9,
   "metadata": {},
   "outputs": [],
   "source": [
    "#Using ORM SQLalchemy to create SQLite db \n",
    "from sqlalchemy import func\n",
    "from sqlalchemy import desc\n",
    "from sqlalchemy.ext.declarative import declarative_base\n",
    "from sqlalchemy import Column, Integer, String, Enum, Float, ForeignKey, DateTime\n",
    "from sqlalchemy.orm import relationship, backref\n",
    "from sqlalchemy.pool import QueuePool"
   ]
  },
  {
   "cell_type": "code",
   "execution_count": 10,
   "metadata": {
    "scrolled": true
   },
   "outputs": [
    {
     "name": "stdout",
     "output_type": "stream",
     "text": [
      "2021-05-10 19:26:47,181 INFO sqlalchemy.engine.base.Engine SELECT CAST('test plain returns' AS VARCHAR(60)) AS anon_1\n",
      "2021-05-10 19:26:47,183 INFO sqlalchemy.engine.base.Engine ()\n",
      "2021-05-10 19:26:47,185 INFO sqlalchemy.engine.base.Engine SELECT CAST('test unicode returns' AS VARCHAR(60)) AS anon_1\n",
      "2021-05-10 19:26:47,185 INFO sqlalchemy.engine.base.Engine ()\n",
      "2021-05-10 19:26:47,187 INFO sqlalchemy.engine.base.Engine PRAGMA main.table_info(\"hdbFlatCleanDb\")\n",
      "2021-05-10 19:26:47,188 INFO sqlalchemy.engine.base.Engine ()\n"
     ]
    }
   ],
   "source": [
    "BaseSQL = declarative_base()\n",
    "\n",
    "#Define new table for orm. \n",
    "class HdbFlatCleanDb(BaseSQL):\n",
    "    __tablename__ = 'hdbFlatCleanDb'\n",
    "    surrogateId = Column(Integer, primary_key=True, autoincrement=True)\n",
    "    transId = Column(Integer)\n",
    "    monthTr = Column(String)\n",
    "    townTr = Column(String)\n",
    "    flatTypeTr = Column(String)\n",
    "    blkTr = Column(String)\n",
    "    streetNameTr = Column(String)\n",
    "    storeyRangeTr = Column(String)\n",
    "    floorSqmTr = Column(Float) #float\n",
    "    flatModelTr = Column(String)\n",
    "    leaseCommenceDateTr = Column(Integer)\n",
    "    resalePriceTr =Column(Float) #float\n",
    "    remainingLeaseTr= Column(Integer)\n",
    "\n",
    "    def __repr__(self):\n",
    "        return \"%s %s %s %s %s %s %s %s %s %s %s %s\" %(self.surrogateId, self.transId\n",
    "                                , self.monthTr, self.townTr, self.flatTypeTr\n",
    "                                , self.blkTr, self.streetNameTr \n",
    "                                , self.storeyRangeTr, self.floorSqmTr\n",
    "                                , self.flatModelTr, self.leaseCommenceDateTr\n",
    "                                , self.resalePriceTr, self.remainingLeaseTr) \n",
    "\n",
    "from sqlalchemy import create_engine\n",
    "engineSQL = create_engine('sqlite:///hdbFlatCleanDb.db', pool_pre_ping=True, echo=True, poolclass=QueuePool)\n",
    "BaseSQL.metadata.create_all(engineSQL)\n",
    "\n",
    "from sqlalchemy.orm import sessionmaker\n",
    "SessionSQL = sessionmaker(bind=engineSQL)\n",
    "sessionSQL = SessionSQL()\n"
   ]
  },
  {
   "cell_type": "code",
   "execution_count": 11,
   "metadata": {
    "scrolled": true
   },
   "outputs": [],
   "source": [
    "import csv\n",
    "\n",
    "def populateDataFromCSVtoORM():\n",
    "    with open('hdbFlatClean.csv') as cv:\n",
    "        loadhdbData = csv.reader(cv) \n",
    "        ignoreHeader = next(loadhdbData) \n",
    "        for csv01 in loadhdbData:\n",
    "            hdbCsv = HdbFlatCleanDb(\n",
    "                transId= csv01[1],\n",
    "                monthTr= csv01[2],\n",
    "                townTr= csv01[3],\n",
    "                flatTypeTr = csv01[4],\n",
    "                blkTr = csv01[5],\n",
    "                streetNameTr = csv01[6],\n",
    "                storeyRangeTr = csv01[7],\n",
    "                floorSqmTr = csv01[8],\n",
    "                flatModelTr = csv01[9],\n",
    "                leaseCommenceDateTr = csv01[10],\n",
    "                resalePriceTr = csv01[11],\n",
    "                remainingLeaseTr = csv01[12])\n",
    "               \n",
    "            sessionSQL.add(hdbCsv)\n",
    "            sessionSQL.commit()   \n",
    "#populateDataFromCSVtoORM() "
   ]
  },
  {
   "cell_type": "markdown",
   "metadata": {},
   "source": [
    "# Question.2.b.i"
   ]
  },
  {
   "cell_type": "code",
   "execution_count": 12,
   "metadata": {},
   "outputs": [],
   "source": [
    "#a short name for HdbFlatCleanDb\n",
    "hdbQ2 = HdbFlatCleanDb"
   ]
  },
  {
   "cell_type": "code",
   "execution_count": 13,
   "metadata": {
    "scrolled": false
   },
   "outputs": [
    {
     "name": "stdout",
     "output_type": "stream",
     "text": [
      "2021-05-10 19:26:47,513 INFO sqlalchemy.engine.base.Engine BEGIN (implicit)\n",
      "2021-05-10 19:26:47,515 INFO sqlalchemy.engine.base.Engine SELECT substr(\"hdbFlatCleanDb\".\"monthTr\", ?, ?) AS substr_1, substr(\"hdbFlatCleanDb\".\"monthTr\", ?, ?) AS substr_4, count(substr(\"hdbFlatCleanDb\".\"monthTr\", ?, ?)) AS count_1 \n",
      "FROM \"hdbFlatCleanDb\" GROUP BY substr(\"hdbFlatCleanDb\".\"monthTr\", ?, ?), substr(\"hdbFlatCleanDb\".\"monthTr\", ?, ?) ORDER BY substr(\"hdbFlatCleanDb\".\"monthTr\", ?, ?) DESC\n",
      "2021-05-10 19:26:47,516 INFO sqlalchemy.engine.base.Engine (6, 2, 1, 4, 6, 2, 6, 2, 1, 4, 1, 4)\n"
     ]
    }
   ],
   "source": [
    "#create an empty to store the results from query.\n",
    "totalNumOfTransForMonth01=[]\n",
    "\n",
    "#assign a short name for sqlalhemy func.\n",
    "#func.substr to extract month from substring. \n",
    "unimon = func.substr(hdbQ2.monthTr, 6,2)\n",
    "uniYr = func.substr(hdbQ2.monthTr, 1,4)\n",
    "#print(unimon)\n",
    "\n",
    "def queryForQ2bi():\n",
    "    #find out for each month the transaction num in total.\n",
    "    totalTrans = sessionSQL.query(unimon,uniYr,func.count(unimon))\\\n",
    "    .group_by(unimon, uniYr).order_by(desc(uniYr))\n",
    "   \n",
    "    #store the query result to the totalNumOfTransForMonth.\n",
    "    totalTrans01 = [totalNumOfTransForMonth01.append([tol[0], tol[1], tol[2]]) for tol in totalTrans]\n",
    "    #print(totalNumOfTransForMonth01)              \n",
    "queryForQ2bi()  \n"
   ]
  },
  {
   "cell_type": "code",
   "execution_count": 14,
   "metadata": {},
   "outputs": [
    {
     "name": "stdout",
     "output_type": "stream",
     "text": [
      "\n",
      "Transaction number in total for each month\n",
      "Month      Year    Total Transaction \n",
      " ----------------------------------------\n",
      "01         2020                 1906\n",
      "02         2020                 1658\n",
      "03         2020                 1936\n",
      "04         2020                  422\n",
      "05         2020                  362\n",
      "06         2020                 2432\n",
      "07         2020                 2456\n",
      "08         2020                 2424\n",
      "01         2019                 1539\n",
      "02         2019                 1301\n",
      "03         2019                 1648\n",
      "04         2019                 1913\n",
      "05         2019                 2065\n",
      "06         2019                 1880\n",
      "07         2019                 2106\n",
      "08         2019                 1896\n",
      "09         2019                 1821\n",
      "10         2019                 2203\n",
      "11         2019                 1900\n",
      "12         2019                 1842\n",
      "01         2018                 1070\n",
      "02         2018                 1181\n",
      "03         2018                 1877\n",
      "04         2018                 1833\n",
      "05         2018                 1736\n",
      "06         2018                 1970\n",
      "07         2018                 2529\n",
      "08         2018                 2061\n",
      "09         2018                 1977\n",
      "10         2018                 1982\n",
      "11         2018                 1862\n",
      "12         2018                 1419\n",
      "01         2017                 1181\n",
      "02         2017                 1083\n",
      "03         2017                 1896\n",
      "04         2017                 1836\n",
      "05         2017                 1975\n",
      "06         2017                 1742\n",
      "07         2017                 1777\n",
      "08         2017                 1958\n",
      "09         2017                 1672\n",
      "10         2017                 1779\n",
      "11         2017                 1975\n",
      "12         2017                 1580\n"
     ]
    }
   ],
   "source": [
    "def displayQueryQ2bi():\n",
    "    #shows the results from totalNumOfTransForMonth.\n",
    "    print(\"\\nTransaction number in total for each month\")\n",
    "    print(\"{:<10} {} {:>20}\".format(\"Month\",\"Year\", \"Total Transaction\"), \"\\n\", '-'*40)\n",
    "    for transMon in totalNumOfTransForMonth01:\n",
    "        print(\"{:<10} {} {:>20}\".format(transMon[0], transMon[1], transMon[2]))\n",
    "displayQueryQ2bi() "
   ]
  },
  {
   "cell_type": "markdown",
   "metadata": {},
   "source": [
    "# Question.2.b.ii"
   ]
  },
  {
   "cell_type": "code",
   "execution_count": 15,
   "metadata": {},
   "outputs": [
    {
     "name": "stdout",
     "output_type": "stream",
     "text": [
      "2021-05-10 19:26:47,932 INFO sqlalchemy.engine.base.Engine SELECT \"hdbFlatCleanDb\".\"townTr\" AS \"hdbFlatCleanDb_townTr\", count(\"hdbFlatCleanDb\".\"townTr\") AS count_1 \n",
      "FROM \"hdbFlatCleanDb\" GROUP BY \"hdbFlatCleanDb\".\"townTr\" ORDER BY count(\"hdbFlatCleanDb\".\"townTr\") DESC\n",
      "2021-05-10 19:26:47,933 INFO sqlalchemy.engine.base.Engine ()\n"
     ]
    }
   ],
   "source": [
    "numOfResaleTransByTown = []\n",
    "\n",
    "def queryForQ2bi():\n",
    "    #find out for each town the resale transaction num in total.\n",
    "    TransByTown = sessionSQL.query(hdbQ2.townTr,func.count(hdbQ2.townTr)).group_by(hdbQ2.townTr)\\\n",
    "    .order_by(desc(func.count(hdbQ2.townTr)))\n",
    "    \n",
    "    #store the query result to the numOfResaleTransByTown.\n",
    "    TransByTown01 = [numOfResaleTransByTown.append([tol[0], tol[1]]) for tol in TransByTown]\n",
    "    #print(numOfResaleTransByTown)              \n",
    "queryForQ2bi()"
   ]
  },
  {
   "cell_type": "code",
   "execution_count": 16,
   "metadata": {},
   "outputs": [
    {
     "name": "stdout",
     "output_type": "stream",
     "text": [
      "\n",
      "Resale transaction number in total for each town\n",
      "Town         Total Transaction \n",
      " ------------------------------\n",
      "SENGKANG                  6152\n",
      "WOODLANDS                 5881\n",
      "JURONG WEST               5806\n",
      "YISHUN                    5447\n",
      "TAMPINES                  5026\n",
      "PUNGGOL                   4901\n",
      "BEDOK                     4189\n",
      "HOUGANG                   3688\n",
      "ANG MO KIO                3503\n",
      "CHOA CHU KANG             3247\n",
      "BUKIT PANJANG             3073\n",
      "BUKIT MERAH               3014\n",
      "BUKIT BATOK               2868\n",
      "TOA PAYOH                 2553\n",
      "PASIR RIS                 2310\n",
      "KALLANG/WHAMPOA           2212\n",
      "QUEENSTOWN                2059\n",
      "SEMBAWANG                 2053\n",
      "GEYLANG                   1869\n",
      "JURONG EAST               1740\n",
      "CLEMENTI                  1731\n",
      "SERANGOON                 1553\n",
      "BISHAN                    1487\n",
      "CENTRAL AREA              636\n",
      "MARINE PARADE             450\n",
      "BUKIT TIMAH               213\n"
     ]
    }
   ],
   "source": [
    "def displayQueryQ2bii():\n",
    "    #shows the results from numOfResaleTransByTown.\n",
    "    print(\"\\nResale transaction number in total for each town\")\n",
    "    print(\"{} {:>25}\".format(\"Town\", \"Total Transaction\"), \"\\n\", '-'*30)\n",
    "    for numTrans in numOfResaleTransByTown:\n",
    "        print(\"{:<25} {}\".format(numTrans[0], numTrans[1]))\n",
    "displayQueryQ2bii() "
   ]
  },
  {
   "cell_type": "markdown",
   "metadata": {},
   "source": [
    "# Question.2.b.iii"
   ]
  },
  {
   "cell_type": "code",
   "execution_count": 17,
   "metadata": {
    "scrolled": true
   },
   "outputs": [
    {
     "name": "stdout",
     "output_type": "stream",
     "text": [
      "2021-05-10 19:26:48,205 INFO sqlalchemy.engine.base.Engine SELECT \"hdbFlatCleanDb\".\"townTr\" AS \"hdbFlatCleanDb_townTr\", count(\"hdbFlatCleanDb\".\"townTr\") AS count_1 \n",
      "FROM \"hdbFlatCleanDb\" \n",
      "WHERE CAST(substr(\"hdbFlatCleanDb\".\"storeyRangeTr\", ?, ?) AS INTEGER) >= ? AND CAST(substr(\"hdbFlatCleanDb\".\"monthTr\", ?, ?) AS INTEGER) >= ? GROUP BY \"hdbFlatCleanDb\".\"townTr\" ORDER BY count(\"hdbFlatCleanDb\".\"townTr\") DESC\n",
      "2021-05-10 19:26:48,206 INFO sqlalchemy.engine.base.Engine (1, 2, 10, 1, 4, 2019)\n"
     ]
    }
   ],
   "source": [
    "topThreeTownWithMaxNumOfTrans = []\n",
    "\n",
    "def queryForQ2biii():\n",
    "    #find out top 3 towns with max total num of transaction after\n",
    "    #or on jan 2019 & storey range on 10 or above. \n",
    "    \n",
    "    #assign func. to a short name.\n",
    "    uni01 = func.substr(hdbQ2.storeyRangeTr, 1,2)\n",
    "    uni02 = func.substr(hdbQ2.monthTr, 1,4)\n",
    "\n",
    "    transByYearAndStoreyRange = sessionSQL.query(hdbQ2.townTr,func.count(hdbQ2.townTr)).group_by(hdbQ2.townTr)\\\n",
    "    .filter(uni01.cast(Integer) >= 10, uni02.cast(Integer) >= 2019)\\\n",
    "    .order_by(desc(func.count(hdbQ2.townTr)))\n",
    "    \n",
    "    #store the query result to the topThreeTownWithMaxNumOfTrans.\n",
    "    top3Town = [topThreeTownWithMaxNumOfTrans.append([tol[0], tol[1]]) for tol in transByYearAndStoreyRange]\n",
    "\n",
    "queryForQ2biii()"
   ]
  },
  {
   "cell_type": "code",
   "execution_count": 18,
   "metadata": {},
   "outputs": [
    {
     "name": "stdout",
     "output_type": "stream",
     "text": [
      "\n",
      "Top 3 towns with max number of transactions\n",
      "Town         Total Transaction \n",
      " ------------------------------\n",
      "SENGKANG                  1605\n",
      "PUNGGOL                   1065\n",
      "JURONG WEST               883\n"
     ]
    }
   ],
   "source": [
    "def displayQueryQ2biii():\n",
    "    #shows the results from topThreeTownWithMaxNumOfTrans.\n",
    "    print(\"\\nTop 3 towns with max number of transactions\")\n",
    "    print(\"{} {:>25}\".format(\"Town\", \"Total Transaction\"), \"\\n\", '-'*30)\n",
    "    for top3Town in topThreeTownWithMaxNumOfTrans[:3]:\n",
    "        print(\"{:<25} {}\".format(top3Town[0], top3Town[1]))\n",
    "displayQueryQ2biii() "
   ]
  },
  {
   "cell_type": "markdown",
   "metadata": {},
   "source": [
    "# Question.3a\n",
    "\n",
    "Load data of CSV from Q1c to dataframe and display same results as 3 questions in Q2b."
   ]
  },
  {
   "cell_type": "code",
   "execution_count": 19,
   "metadata": {},
   "outputs": [
    {
     "name": "stdout",
     "output_type": "stream",
     "text": [
      "   transaction_id      month        town flat_type block        street_name  \\\n",
      "0               0 2017-01-01  ANG MO KIO    2 ROOM   406  ANG MO KIO AVE 10   \n",
      "1               1 2017-01-01  ANG MO KIO    3 ROOM   108   ANG MO KIO AVE 4   \n",
      "2               2 2017-01-01  ANG MO KIO    3 ROOM   602   ANG MO KIO AVE 5   \n",
      "\n",
      "  storey_range  floor_area_sqm      flat_model  lease_commence_date  \\\n",
      "0     10 TO 12            44.0        Improved                 1979   \n",
      "1     01 TO 03            67.0  New Generation                 1978   \n",
      "2     01 TO 03            67.0  New Generation                 1980   \n",
      "\n",
      "   resale_price  remainingLease(In Year)  \n",
      "0      232000.0                       61  \n",
      "1      250000.0                       60  \n",
      "2      262000.0                       62  \n",
      "datetime64[ns]\n"
     ]
    }
   ],
   "source": [
    "import pandas as pd\n",
    "\n",
    "q3readCsv = pd.read_csv('hdbFlatClean.csv',index_col=0)\n",
    "q3pdHdb = pd.DataFrame(q3readCsv)\n",
    "\n",
    "#change the 'month' column to the datatime. \n",
    "q3pdHdb['month'] = pd.to_datetime(q3pdHdb['month'], format = '%Y-%m')\n",
    "\n",
    "print(q3pdHdb.head(3))\n",
    "print(q3pdHdb['month'].dtypes)"
   ]
  },
  {
   "cell_type": "code",
   "execution_count": 20,
   "metadata": {
    "scrolled": true
   },
   "outputs": [
    {
     "name": "stdout",
     "output_type": "stream",
     "text": [
      "\n",
      "Transaction number in total for each month\n",
      "Month    Year    Total Transaction \n",
      " ----------------------------------------\n",
      "01       2020                 1906\n",
      "02       2020                 1658\n",
      "03       2020                 1936\n",
      "04       2020                  422\n",
      "05       2020                  362\n",
      "06       2020                 2432\n",
      "07       2020                 2456\n",
      "08       2020                 2424\n",
      "01       2019                 1539\n",
      "02       2019                 1301\n",
      "03       2019                 1648\n",
      "04       2019                 1913\n",
      "05       2019                 2065\n",
      "06       2019                 1880\n",
      "07       2019                 2106\n",
      "08       2019                 1896\n",
      "09       2019                 1821\n",
      "10       2019                 2203\n",
      "11       2019                 1900\n",
      "12       2019                 1842\n",
      "01       2018                 1070\n",
      "02       2018                 1181\n",
      "03       2018                 1877\n",
      "04       2018                 1833\n",
      "05       2018                 1736\n",
      "06       2018                 1970\n",
      "07       2018                 2529\n",
      "08       2018                 2061\n",
      "09       2018                 1977\n",
      "10       2018                 1982\n",
      "11       2018                 1862\n",
      "12       2018                 1419\n",
      "01       2017                 1181\n",
      "02       2017                 1083\n",
      "03       2017                 1896\n",
      "04       2017                 1836\n",
      "05       2017                 1975\n",
      "06       2017                 1742\n",
      "07       2017                 1777\n",
      "08       2017                 1958\n",
      "09       2017                 1672\n",
      "10       2017                 1779\n",
      "11       2017                 1975\n",
      "12       2017                 1580\n"
     ]
    }
   ],
   "source": [
    "def q2biForQ3aPandas01():\n",
    "    #retrived month in the date.\n",
    "    dateInMon = q3pdHdb['month'].dt.month #to retrived month of date.\n",
    "    dateInYr = q3pdHdb['month'].dt.year\n",
    "    \n",
    "    #find out for each month the transaction num in total.\n",
    "    totalTrans = q3pdHdb.groupby([(dateInMon.rename('Month')),(dateInYr.rename('Year'))])\\\n",
    "    ['month'].count().reset_index(name = 'Total')\n",
    "\n",
    "    totalTrans02 = totalTrans.sort_values(['Year' , 'Month'], ascending = [False, True])\n",
    "\n",
    "    resultsList = totalTrans02.values.tolist()\n",
    "    \n",
    "    #shows the results from resultsList.\n",
    "    print(\"\\nTransaction number in total for each month\")\n",
    "    print(\"{:<8} {} {:>20}\".format(\"Month\", \"Year\", \"Total Transaction\"), \"\\n\", '-'*40)\n",
    "    for transMon in resultsList:\n",
    "        if len(str(transMon[0])) != 2:\n",
    "            print(\"{} {:>10} {:>20}\".format('0'+ str(transMon[0]), transMon[1], transMon[2]))\n",
    "        else:\n",
    "            print(\"{} {:>10} {:>20}\".format(transMon[0], transMon[1], transMon[2]))    \n",
    "        \n",
    "q2biForQ3aPandas01()  "
   ]
  },
  {
   "cell_type": "code",
   "execution_count": 21,
   "metadata": {},
   "outputs": [
    {
     "name": "stdout",
     "output_type": "stream",
     "text": [
      "\n",
      "Resale transaction number in total for each town\n",
      "Town         Total Transaction \n",
      " ------------------------------\n",
      "SENGKANG                  6152\n",
      "WOODLANDS                 5881\n",
      "JURONG WEST               5806\n",
      "YISHUN                    5447\n",
      "TAMPINES                  5026\n",
      "PUNGGOL                   4901\n",
      "BEDOK                     4189\n",
      "HOUGANG                   3688\n",
      "ANG MO KIO                3503\n",
      "CHOA CHU KANG             3247\n",
      "BUKIT PANJANG             3073\n",
      "BUKIT MERAH               3014\n",
      "BUKIT BATOK               2868\n",
      "TOA PAYOH                 2553\n",
      "PASIR RIS                 2310\n",
      "KALLANG/WHAMPOA           2212\n",
      "QUEENSTOWN                2059\n",
      "SEMBAWANG                 2053\n",
      "GEYLANG                   1869\n",
      "JURONG EAST               1740\n",
      "CLEMENTI                  1731\n",
      "SERANGOON                 1553\n",
      "BISHAN                    1487\n",
      "CENTRAL AREA              636\n",
      "MARINE PARADE             450\n",
      "BUKIT TIMAH               213\n"
     ]
    }
   ],
   "source": [
    "def q2biiForQ3aPandas():\n",
    "    #find out for each month the transaction num in total.\n",
    "    TransByTown = q3pdHdb.groupby(['town'])['town'].count().reset_index(name = 'Total')\n",
    "    TransByTown02 = TransByTown.sort_values(['Total'], ascending = False)\n",
    "\n",
    "    resultsList = TransByTown02.values.tolist()\n",
    "    \n",
    "    #shows the results from resultsList.\n",
    "    print(\"\\nResale transaction number in total for each town\")\n",
    "    print(\"{} {:>25}\".format(\"Town\", \"Total Transaction\"), \"\\n\", '-'*30)\n",
    "    for numTrans in resultsList:\n",
    "        print(\"{:<25} {}\".format(numTrans[0], numTrans[1]))        \n",
    "q2biiForQ3aPandas()"
   ]
  },
  {
   "cell_type": "code",
   "execution_count": 22,
   "metadata": {},
   "outputs": [
    {
     "name": "stdout",
     "output_type": "stream",
     "text": [
      "\n",
      "Top 3 towns with max number of transactions\n",
      "Town         Total Transaction \n",
      " ------------------------------\n",
      "SENGKANG                  1605\n",
      "PUNGGOL                   1065\n",
      "JURONG WEST               883\n"
     ]
    }
   ],
   "source": [
    "def q2biiiForQ3aPandas():\n",
    "    #find out top 3 towns with max total num of transaction after\n",
    "    #or on jan 2019 & storey range on 10 or above. \n",
    "    \n",
    "    #slice the word and retrived wanted word.\n",
    "    strSplit01 = q3pdHdb['storey_range'].str.slice(start=0, stop=3)\n",
    "    #print(strSplit01[:3])\n",
    "    \n",
    "    #retrived year and month\n",
    "    dateInYr = q3pdHdb['month'].dt.year\n",
    "    dateInMon = q3pdHdb['month'].dt.month\n",
    "    #print(dateInYr[:3])\n",
    "    #print(dateInMon[:3])\n",
    "    \n",
    "    trans01 = q3pdHdb[(strSplit01.astype(int) >= 10) & (dateInYr >= 2019) & (dateInMon >= 1)]\\\n",
    "        .groupby(['town'])['town'].count().reset_index(name = 'Total')\n",
    "    trans02 = trans01.sort_values(['Total'], ascending = False) \n",
    "    #print(trans02)\n",
    "    \n",
    "    resultsList = trans02.values.tolist()\n",
    "    \n",
    "    #shows the results from resultsList.\n",
    "    print(\"\\nTop 3 towns with max number of transactions\")\n",
    "    print(\"{} {:>25}\".format(\"Town\", \"Total Transaction\"), \"\\n\", '-'*30)\n",
    "    for top3Town in resultsList[:3]:\n",
    "        print(\"{:<25} {}\".format(top3Town[0], top3Town[1]))\n",
    "    \n",
    "q2biiiForQ3aPandas()"
   ]
  },
  {
   "cell_type": "markdown",
   "metadata": {},
   "source": [
    "# Question.3.b.i\n",
    "\n",
    "Find out the top 3 towns with highest number of transaction for each month by a function. "
   ]
  },
  {
   "cell_type": "code",
   "execution_count": 23,
   "metadata": {
    "scrolled": true
   },
   "outputs": [],
   "source": [
    "def top3TownAfter2017(town):  \n",
    "    #retrived year and month\n",
    "    dateInYr = q3pdHdb['month'].dt.year\n",
    "    dateInMon = q3pdHdb['month'].dt.month\n",
    "    \n",
    "    #find out top 3 town with highest num of transaction for each month per year.\n",
    "    top3Towns = q3pdHdb.groupby([town, dateInMon.rename('Month'), dateInYr.rename('Year')])['town'].count().reset_index(name = 'Total')\n",
    "    top3Towns01 = top3Towns.groupby(['Month', 'Year']).apply(lambda x: x.nlargest(3,['Total'])).reset_index(drop=True)\n",
    "    resultsList = top3Towns01.values.tolist()\n",
    "    #print(top3Towns01)\n",
    "\n",
    "    #print(resultsList)\n",
    "    \n",
    "    #display the results from resultsList.\n",
    "    print(\"\\nTop 3 towns with greater number of transaction for each month and year\")\n",
    "    print(\"{} {:>17} {:>10} {:>20}\".format(\"Town\", 'Month','Year' ,\"Total Transaction\"), \"\\n\", '-'*50)\n",
    "    for topTowns in resultsList:\n",
    "        print(\"{:<12} {:>8} {:>10} {:>10}\".format(topTowns[0], topTowns[1], topTowns[2], topTowns[3]))  "
   ]
  },
  {
   "cell_type": "code",
   "execution_count": 24,
   "metadata": {
    "scrolled": true
   },
   "outputs": [
    {
     "name": "stdout",
     "output_type": "stream",
     "text": [
      "\n",
      "Top 3 towns with greater number of transaction for each month and year\n",
      "Town             Month       Year    Total Transaction \n",
      " --------------------------------------------------\n",
      "JURONG WEST         1       2017        112\n",
      "WOODLANDS           1       2017         83\n",
      "TAMPINES            1       2017         82\n",
      "PUNGGOL             1       2018         82\n",
      "SENGKANG            1       2018         82\n",
      "WOODLANDS           1       2018         73\n",
      "WOODLANDS           1       2019        143\n",
      "YISHUN              1       2019        117\n",
      "SENGKANG            1       2019        116\n",
      "YISHUN              1       2020        180\n",
      "SENGKANG            1       2020        174\n",
      "JURONG WEST         1       2020        137\n",
      "SENGKANG            2       2017         83\n",
      "YISHUN              2       2017         82\n",
      "WOODLANDS           2       2017         74\n",
      "JURONG WEST         2       2018         94\n",
      "PUNGGOL             2       2018         91\n",
      "SENGKANG            2       2018         89\n",
      "WOODLANDS           2       2019        111\n",
      "JURONG WEST         2       2019        104\n",
      "YISHUN              2       2019         90\n",
      "SENGKANG            2       2020        162\n",
      "YISHUN              2       2020        135\n",
      "TAMPINES            2       2020        127\n",
      "SENGKANG            3       2017        146\n",
      "JURONG WEST         3       2017        143\n",
      "WOODLANDS           3       2017        131\n",
      "JURONG WEST         3       2018        152\n",
      "PUNGGOL             3       2018        152\n",
      "SENGKANG            3       2018        139\n",
      "WOODLANDS           3       2019        139\n",
      "YISHUN              3       2019        117\n",
      "SENGKANG            3       2019        113\n",
      "YISHUN              3       2020        203\n",
      "SENGKANG            3       2020        164\n",
      "WOODLANDS           3       2020        134\n",
      "JURONG WEST         4       2017        142\n",
      "WOODLANDS           4       2017        136\n",
      "SENGKANG            4       2017        132\n",
      "JURONG WEST         4       2018        133\n",
      "WOODLANDS           4       2018        127\n",
      "TAMPINES            4       2018        125\n",
      "WOODLANDS           4       2019        151\n",
      "SENGKANG            4       2019        135\n",
      "TAMPINES            4       2019        134\n",
      "YISHUN              4       2020         52\n",
      "SENGKANG            4       2020         42\n",
      "WOODLANDS           4       2020         35\n",
      "JURONG WEST         5       2017        162\n",
      "WOODLANDS           5       2017        154\n",
      "SENGKANG            5       2017        153\n",
      "TAMPINES            5       2018        152\n",
      "SENGKANG            5       2018        144\n",
      "PUNGGOL             5       2018        139\n",
      "SENGKANG            5       2019        180\n",
      "JURONG WEST         5       2019        172\n",
      "WOODLANDS           5       2019        170\n",
      "SENGKANG            5       2020         39\n",
      "YISHUN              5       2020         31\n",
      "PUNGGOL             5       2020         28\n",
      "SENGKANG            6       2017        142\n",
      "JURONG WEST         6       2017        130\n",
      "WOODLANDS           6       2017        128\n",
      "JURONG WEST         6       2018        158\n",
      "SENGKANG            6       2018        147\n",
      "WOODLANDS           6       2018        144\n",
      "JURONG WEST         6       2019        167\n",
      "SENGKANG            6       2019        165\n",
      "WOODLANDS           6       2019        153\n",
      "YISHUN              6       2020        195\n",
      "SENGKANG            6       2020        178\n",
      "JURONG WEST         6       2020        173\n",
      "WOODLANDS           7       2017        143\n",
      "SENGKANG            7       2017        139\n",
      "JURONG WEST         7       2017        136\n",
      "SENGKANG            7       2018        205\n",
      "WOODLANDS           7       2018        197\n",
      "JURONG WEST         7       2018        191\n",
      "JURONG WEST         7       2019        199\n",
      "SENGKANG            7       2019        175\n",
      "YISHUN              7       2019        169\n",
      "PUNGGOL             7       2020        205\n",
      "SENGKANG            7       2020        194\n",
      "YISHUN              7       2020        173\n",
      "JURONG WEST         8       2017        158\n",
      "WOODLANDS           8       2017        145\n",
      "SENGKANG            8       2017        141\n",
      "SENGKANG            8       2018        177\n",
      "JURONG WEST         8       2018        161\n",
      "WOODLANDS           8       2018        152\n",
      "WOODLANDS           8       2019        178\n",
      "YISHUN              8       2019        178\n",
      "SENGKANG            8       2019        175\n",
      "SENGKANG            8       2020        241\n",
      "TAMPINES            8       2020        189\n",
      "PUNGGOL             8       2020        185\n",
      "JURONG WEST         9       2017        139\n",
      "WOODLANDS           9       2017        134\n",
      "PUNGGOL             9       2017        130\n",
      "WOODLANDS           9       2018        163\n",
      "JURONG WEST         9       2018        149\n",
      "SENGKANG            9       2018        145\n",
      "YISHUN              9       2019        161\n",
      "SENGKANG            9       2019        150\n",
      "WOODLANDS           9       2019        146\n",
      "JURONG WEST        10       2017        152\n",
      "WOODLANDS          10       2017        136\n",
      "SENGKANG           10       2017        129\n",
      "WOODLANDS          10       2018        176\n",
      "JURONG WEST        10       2018        158\n",
      "YISHUN             10       2018        144\n",
      "YISHUN             10       2019        205\n",
      "SENGKANG           10       2019        193\n",
      "JURONG WEST        10       2019        173\n",
      "JURONG WEST        11       2017        165\n",
      "WOODLANDS          11       2017        160\n",
      "PUNGGOL            11       2017        141\n",
      "WOODLANDS          11       2018        167\n",
      "SENGKANG           11       2018        156\n",
      "JURONG WEST        11       2018        134\n",
      "SENGKANG           11       2019        176\n",
      "WOODLANDS          11       2019        161\n",
      "YISHUN             11       2019        158\n",
      "SENGKANG           12       2017        131\n",
      "PUNGGOL            12       2017        125\n",
      "JURONG WEST        12       2017        119\n",
      "WOODLANDS          12       2018        123\n",
      "SENGKANG           12       2018        108\n",
      "PUNGGOL            12       2018        103\n",
      "YISHUN             12       2019        181\n",
      "SENGKANG           12       2019        139\n",
      "WOODLANDS          12       2019        134\n"
     ]
    }
   ],
   "source": [
    "def top3TownResults():\n",
    "\n",
    "    top3TownAfter2017(q3pdHdb['town'])\n",
    "top3TownResults()"
   ]
  },
  {
   "cell_type": "markdown",
   "metadata": {},
   "source": [
    "# Question.3.b.ii"
   ]
  },
  {
   "cell_type": "code",
   "execution_count": 25,
   "metadata": {},
   "outputs": [],
   "source": [
    "%matplotlib inline\n",
    "import matplotlib.pyplot as plt\n",
    "from matplotlib.pyplot import hist\n",
    "from pandas.plotting import register_matplotlib_converters\n",
    "import seaborn as sns"
   ]
  },
  {
   "cell_type": "code",
   "execution_count": 26,
   "metadata": {},
   "outputs": [
    {
     "data": {
      "image/png": "[encoded data removed]",
      "text/plain": [
       "<Figure size 648x360 with 1 Axes>"
      ]
     },
     "metadata": {
      "needs_background": "light"
     },
     "output_type": "display_data"
    }
   ],
   "source": [
    "#retrived year and month\n",
    "dateInYr = q3pdHdb['month'].dt.year\n",
    "dateInMon = q3pdHdb['month'].dt.month\n",
    "\n",
    "def medianResalePriceForEachMonIn2020():\n",
    "    #find out median resale price for each month in 2020.\n",
    "    plot01 = q3pdHdb[dateInYr == 2020].groupby(['town'])['resale_price'].median().reset_index(name = 'median price')\n",
    "    plot02 = plot01.values.tolist()\n",
    "    #print(plot02)\n",
    "    \n",
    "    dfplot = pd.DataFrame(plot02, columns = ['Town', 'Median Price'])\n",
    "    #print(dfplot)\n",
    "    \n",
    "    #Display the results in histogram based on dfplot dataframe.\n",
    "    dfplotHis = plt.figure(figsize=(9,5))\n",
    "    dfplotAxes = dfplotHis.add_subplot(1,1,1)\n",
    "    dfplotAxes.bar(dfplot['Town'],dfplot['Median Price'], color='#2ecc71', alpha=0.7)\n",
    "    dfplotAxes.grid(axis='y', alpha=0.75)\n",
    "    dfplotAxes.set_title('Median Resale price for each town In 2020', fontsize=15)\n",
    "    dfplotAxes.set_xlabel('For each Town', fontsize=15)\n",
    "    dfplotAxes.set_ylabel('Median of resale price', fontsize=15)\n",
    "    plt.xticks(rotation=70) #rotate the word for x axis.\n",
    "\n",
    "    plt.show()        \n",
    "medianResalePriceForEachMonIn2020()"
   ]
  },
  {
   "cell_type": "markdown",
   "metadata": {},
   "source": [
    "# Question.3.b.iii"
   ]
  },
  {
   "cell_type": "code",
   "execution_count": 27,
   "metadata": {
    "scrolled": false
   },
   "outputs": [
    {
     "data": {
      "image/png": "[encoded data removed]",
      "text/plain": [
       "<Figure size 1080x504 with 1 Axes>"
      ]
     },
     "metadata": {
      "needs_background": "light"
     },
     "output_type": "display_data"
    }
   ],
   "source": [
    "def medianPricePerFlatTypeForEachMon():\n",
    "    #find out the max transaction for the town in 2020.\n",
    "    plot01 = q3pdHdb[dateInYr == 2020].groupby(['town'])['town'].count().reset_index(name = 'total')\n",
    "    plot02 = plot01.nlargest(1,'total').values.tolist()\n",
    "\n",
    "    maxTrans = plot02[0][0]\n",
    "\n",
    "    #find out median price per flat type.\n",
    "    maxPlot01 = q3pdHdb[q3pdHdb['town']==maxTrans].groupby([dateInMon, 'flat_type'])['resale_price']\\\n",
    "    .median().unstack().plot(kind='bar', figsize=(15,7), rot=0,grid=True)\n",
    "\n",
    "    #Configuration of bar chart. \n",
    "    plt.title(maxTrans + ' --Median resale price Ploting in flat type for each month in 2020' ,fontsize=14)\n",
    "    plt.xlabel('The flat type for each month',fontsize=12)\n",
    "    plt.ylabel('Median price for each month per flat type',fontsize=12)\n",
    "    plt.show() \n",
    "medianPricePerFlatTypeForEachMon()\n",
    "\n"
   ]
  },
  {
   "cell_type": "markdown",
   "metadata": {},
   "source": [
    "# Question.3.b.iv"
   ]
  },
  {
   "cell_type": "code",
   "execution_count": 28,
   "metadata": {},
   "outputs": [
    {
     "data": {
      "image/png": "[encoded data removed]",
      "text/plain": [
       "<Figure size 1080x504 with 1 Axes>"
      ]
     },
     "metadata": {
      "needs_background": "light"
     },
     "output_type": "display_data"
    }
   ],
   "source": [
    "def corrFigureBetweenResalePriceAndStorey():\n",
    "    dateInYr = q3pdHdb['month'].dt.year\n",
    "\n",
    "    corrFigure = q3pdHdb.groupby(['storey_range', dateInYr])['resale_price']\\\n",
    "    .median().unstack().plot(kind='bar', figsize=(15,7), rot=70,grid=True)\n",
    "\n",
    "    #Configuration of bar chart. \n",
    "    plt.title('Correlation for storey range and resale price by year' ,fontsize=14)\n",
    "    plt.xlabel('The storey range for each year',fontsize=12)\n",
    "    plt.ylabel('Median resale price for each year',fontsize=12)\n",
    "    plt.show() \n",
    "    \n",
    "corrFigureBetweenResalePriceAndStorey()\n",
    "    "
   ]
  },
  {
   "cell_type": "markdown",
   "metadata": {},
   "source": [
    "# Question.3.b.v"
   ]
  },
  {
   "cell_type": "code",
   "execution_count": 29,
   "metadata": {},
   "outputs": [
    {
     "data": {
      "image/png": "[encoded data removed]",
      "text/plain": [
       "<Figure size 1080x504 with 1 Axes>"
      ]
     },
     "metadata": {
      "needs_background": "light"
     },
     "output_type": "display_data"
    }
   ],
   "source": [
    "def corrFigureBetweenResalePriceAndRemaining():\n",
    "    dateInYr = q3pdHdb['month'].dt.year\n",
    "\n",
    "    corrFigure = q3pdHdb.groupby(['remainingLease(In Year)', dateInYr])['resale_price']\\\n",
    "    .median().unstack().plot(kind='line', figsize=(15,7), rot=0, grid=True)\n",
    "\n",
    "    #Configuration of bar chart. \n",
    "    plt.title('Correlation for remaining lease in year and resale price of each year' ,fontsize=14)\n",
    "    plt.xlabel('The remaining lease in year for each year',fontsize=12)\n",
    "    plt.ylabel('Median resale price for each year',fontsize=12)\n",
    "    plt.show()\n",
    "    \n",
    "corrFigureBetweenResalePriceAndRemaining()\n"
   ]
  },
  {
   "cell_type": "markdown",
   "metadata": {},
   "source": [
    "# Question.3.b.vi"
   ]
  },
  {
   "cell_type": "code",
   "execution_count": 30,
   "metadata": {},
   "outputs": [
    {
     "data": {
      "image/png": "[encoded data removed]",
      "text/plain": [
       "<Figure size 1080x504 with 1 Axes>"
      ]
     },
     "metadata": {
      "needs_background": "light"
     },
     "output_type": "display_data"
    }
   ],
   "source": [
    "def yishunMedianResalePrice():\n",
    "    yishunPlot01 = q3pdHdb[q3pdHdb['town']=='YISHUN'].groupby(['flat_type', dateInYr])['resale_price']\\\n",
    "    .median().unstack().plot(kind='barh', figsize=(15,7), rot=0, color=['grey', 'red', 'green', '#273c75'], grid=True)\n",
    "    #yishunPlot02 = yishunPlot01.values.tolist()\n",
    "    #print(yishunPlot01)\n",
    "\n",
    "    #Configuration of bar chart. \n",
    "    plt.title('Yishun--Median resale price Ploting in flat type for each year' ,fontsize=14)\n",
    "    plt.xlabel('Median price for each year per flat type',fontsize=12)\n",
    "    plt.ylabel('The flat type of each year',fontsize=12)\n",
    "    plt.show() \n",
    "yishunMedianResalePrice()    \n"
   ]
  },
  {
   "cell_type": "code",
   "execution_count": null,
   "metadata": {},
   "outputs": [],
   "source": []
  }
 ],
 "metadata": {
  "kernelspec": {
   "display_name": "Python 3",
   "language": "python",
   "name": "python3"
  },
  "language_info": {
   "codemirror_mode": {
    "name": "ipython",
    "version": 3
   },
   "file_extension": ".py",
   "mimetype": "text/x-python",
   "name": "python",
   "nbconvert_exporter": "python",
   "pygments_lexer": "ipython3",
   "version": "3.8.5"
  }
 },
 "nbformat": 4,
 "nbformat_minor": 4
}
